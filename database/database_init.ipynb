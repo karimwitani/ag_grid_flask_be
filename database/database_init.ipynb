{
 "cells": [
  {
   "cell_type": "markdown",
   "metadata": {},
   "source": [
    "### Create table"
   ]
  },
  {
   "cell_type": "code",
   "execution_count": 6,
   "metadata": {},
   "outputs": [],
   "source": [
    "import sqlalchemy as db\n",
    "from sqlalchemy import  MetaData, Table, Column, Integer, String, Table, DateTime\n",
    "from sqlalchemy.ext.declarative import declarative_base\n",
    "from sqlalchemy.orm import sessionmaker\n",
    "\n",
    "\n"
   ]
  },
  {
   "cell_type": "code",
   "execution_count": 2,
   "metadata": {},
   "outputs": [],
   "source": [
    "engine = db.create_engine('sqlite:///athletes/athletes.db')\n",
    "connection = engine.connect()\n",
    "metadata = db.MetaData()"
   ]
  },
  {
   "cell_type": "code",
   "execution_count": 22,
   "metadata": {},
   "outputs": [],
   "source": [
    "nbaTeams = Table(\n",
    "   'NBA_TEAMS', metadata, \n",
    "   Column('id', Integer, primary_key = True), \n",
    "   Column('abbreviation', String), \n",
    "   Column('city', String),\n",
    "   Column('conference', String),\n",
    "   Column('division', String),\n",
    "   Column('full_name', String),\n",
    "   Column('name', String),\n",
    ")"
   ]
  },
  {
   "cell_type": "code",
   "execution_count": 23,
   "metadata": {},
   "outputs": [],
   "source": [
    "metadata.create_all(engine)"
   ]
  },
  {
   "cell_type": "markdown",
   "metadata": {},
   "source": [
    "### Request data"
   ]
  },
  {
   "cell_type": "code",
   "execution_count": 3,
   "metadata": {},
   "outputs": [
    {
     "name": "stdout",
     "output_type": "stream",
     "text": [
      "{'data': [{'id': 1, 'abbreviation': 'ATL', 'city': 'Atlanta', 'conference': 'East', 'division': 'Southeast', 'full_name': 'Atlanta Hawks', 'name': 'Hawks'}, {'id': 2, 'abbreviation': 'BOS', 'city': 'Boston', 'conference': 'East', 'division': 'Atlantic', 'full_name': 'Boston Celtics', 'name': 'Celtics'}, {'id': 3, 'abbreviation': 'BKN', 'city': 'Brooklyn', 'conference': 'East', 'division': 'Atlantic', 'full_name': 'Brooklyn Nets', 'name': 'Nets'}, {'id': 4, 'abbreviation': 'CHA', 'city': 'Charlotte', 'conference': 'East', 'division': 'Southeast', 'full_name': 'Charlotte Hornets', 'name': 'Hornets'}, {'id': 5, 'abbreviation': 'CHI', 'city': 'Chicago', 'conference': 'East', 'division': 'Central', 'full_name': 'Chicago Bulls', 'name': 'Bulls'}, {'id': 6, 'abbreviation': 'CLE', 'city': 'Cleveland', 'conference': 'East', 'division': 'Central', 'full_name': 'Cleveland Cavaliers', 'name': 'Cavaliers'}, {'id': 7, 'abbreviation': 'DAL', 'city': 'Dallas', 'conference': 'West', 'division': 'Southwest', 'full_name': 'Dallas Mavericks', 'name': 'Mavericks'}, {'id': 8, 'abbreviation': 'DEN', 'city': 'Denver', 'conference': 'West', 'division': 'Northwest', 'full_name': 'Denver Nuggets', 'name': 'Nuggets'}, {'id': 9, 'abbreviation': 'DET', 'city': 'Detroit', 'conference': 'East', 'division': 'Central', 'full_name': 'Detroit Pistons', 'name': 'Pistons'}, {'id': 10, 'abbreviation': 'GSW', 'city': 'Golden State', 'conference': 'West', 'division': 'Pacific', 'full_name': 'Golden State Warriors', 'name': 'Warriors'}, {'id': 11, 'abbreviation': 'HOU', 'city': 'Houston', 'conference': 'West', 'division': 'Southwest', 'full_name': 'Houston Rockets', 'name': 'Rockets'}, {'id': 12, 'abbreviation': 'IND', 'city': 'Indiana', 'conference': 'East', 'division': 'Central', 'full_name': 'Indiana Pacers', 'name': 'Pacers'}, {'id': 13, 'abbreviation': 'LAC', 'city': 'LA', 'conference': 'West', 'division': 'Pacific', 'full_name': 'LA Clippers', 'name': 'Clippers'}, {'id': 14, 'abbreviation': 'LAL', 'city': 'Los Angeles', 'conference': 'West', 'division': 'Pacific', 'full_name': 'Los Angeles Lakers', 'name': 'Lakers'}, {'id': 15, 'abbreviation': 'MEM', 'city': 'Memphis', 'conference': 'West', 'division': 'Southwest', 'full_name': 'Memphis Grizzlies', 'name': 'Grizzlies'}, {'id': 16, 'abbreviation': 'MIA', 'city': 'Miami', 'conference': 'East', 'division': 'Southeast', 'full_name': 'Miami Heat', 'name': 'Heat'}, {'id': 17, 'abbreviation': 'MIL', 'city': 'Milwaukee', 'conference': 'East', 'division': 'Central', 'full_name': 'Milwaukee Bucks', 'name': 'Bucks'}, {'id': 18, 'abbreviation': 'MIN', 'city': 'Minnesota', 'conference': 'West', 'division': 'Northwest', 'full_name': 'Minnesota Timberwolves', 'name': 'Timberwolves'}, {'id': 19, 'abbreviation': 'NOP', 'city': 'New Orleans', 'conference': 'West', 'division': 'Southwest', 'full_name': 'New Orleans Pelicans', 'name': 'Pelicans'}, {'id': 20, 'abbreviation': 'NYK', 'city': 'New York', 'conference': 'East', 'division': 'Atlantic', 'full_name': 'New York Knicks', 'name': 'Knicks'}, {'id': 21, 'abbreviation': 'OKC', 'city': 'Oklahoma City', 'conference': 'West', 'division': 'Northwest', 'full_name': 'Oklahoma City Thunder', 'name': 'Thunder'}, {'id': 22, 'abbreviation': 'ORL', 'city': 'Orlando', 'conference': 'East', 'division': 'Southeast', 'full_name': 'Orlando Magic', 'name': 'Magic'}, {'id': 23, 'abbreviation': 'PHI', 'city': 'Philadelphia', 'conference': 'East', 'division': 'Atlantic', 'full_name': 'Philadelphia 76ers', 'name': '76ers'}, {'id': 24, 'abbreviation': 'PHX', 'city': 'Phoenix', 'conference': 'West', 'division': 'Pacific', 'full_name': 'Phoenix Suns', 'name': 'Suns'}, {'id': 25, 'abbreviation': 'POR', 'city': 'Portland', 'conference': 'West', 'division': 'Northwest', 'full_name': 'Portland Trail Blazers', 'name': 'Trail Blazers'}, {'id': 26, 'abbreviation': 'SAC', 'city': 'Sacramento', 'conference': 'West', 'division': 'Pacific', 'full_name': 'Sacramento Kings', 'name': 'Kings'}, {'id': 27, 'abbreviation': 'SAS', 'city': 'San Antonio', 'conference': 'West', 'division': 'Southwest', 'full_name': 'San Antonio Spurs', 'name': 'Spurs'}, {'id': 28, 'abbreviation': 'TOR', 'city': 'Toronto', 'conference': 'East', 'division': 'Atlantic', 'full_name': 'Toronto Raptors', 'name': 'Raptors'}, {'id': 29, 'abbreviation': 'UTA', 'city': 'Utah', 'conference': 'West', 'division': 'Northwest', 'full_name': 'Utah Jazz', 'name': 'Jazz'}, {'id': 30, 'abbreviation': 'WAS', 'city': 'Washington', 'conference': 'East', 'division': 'Southeast', 'full_name': 'Washington Wizards', 'name': 'Wizards'}], 'meta': {'total_pages': 1, 'current_page': 1, 'next_page': None, 'per_page': 30, 'total_count': 30}}\n"
     ]
    }
   ],
   "source": [
    "from pprint import pprint as pp\n",
    "import requests\n",
    "import json\n",
    "response = requests.get('https://www.balldontlie.io/api/v1/teams')\n",
    "\n",
    "response_json = json.loads(response.content)\n",
    "print(response_json)\n",
    "\n",
    "# pp(response.__dict__)\n",
    "# print(type(response.content))\n",
    "# pp(response.content)"
   ]
  },
  {
   "cell_type": "code",
   "execution_count": 4,
   "metadata": {},
   "outputs": [
    {
     "name": "stdout",
     "output_type": "stream",
     "text": [
      "[{'abbreviation': 'ATL',\n",
      "  'city': 'Atlanta',\n",
      "  'conference': 'East',\n",
      "  'division': 'Southeast',\n",
      "  'full_name': 'Atlanta Hawks',\n",
      "  'id': 1,\n",
      "  'name': 'Hawks'}]\n"
     ]
    }
   ],
   "source": [
    "pp(response_json['data'][:1])"
   ]
  },
  {
   "cell_type": "markdown",
   "metadata": {},
   "source": [
    "### Create dataframe from respnonse data"
   ]
  },
  {
   "cell_type": "code",
   "execution_count": 17,
   "metadata": {},
   "outputs": [],
   "source": [
    "import pandas as pd"
   ]
  },
  {
   "cell_type": "markdown",
   "metadata": {},
   "source": [
    "### Creating a data model"
   ]
  },
  {
   "cell_type": "code",
   "execution_count": 7,
   "metadata": {},
   "outputs": [],
   "source": [
    "Base = declarative_base()\n",
    "class NBATeam(Base):\n",
    "    \"\"\"NBA team data model.\"\"\"\n",
    "    __tablename__ = \"NBA_TEAMS\"\n",
    "\n",
    "    id = Column('id', Integer, primary_key = True)\n",
    "    abbreviation = Column('abbreviation', String) \n",
    "    city = Column('city', String)\n",
    "    conference = Column('conference', String)\n",
    "    division = Column('division', String)\n",
    "    full_name = Column('full_name', String)\n",
    "    name = Column('name', String)\n",
    "    date_founded = Column('date_founded', DateTime, nullable = True)"
   ]
  },
  {
   "cell_type": "code",
   "execution_count": 8,
   "metadata": {},
   "outputs": [],
   "source": [
    "Session = sessionmaker(bind=engine)\n",
    "session = Session()"
   ]
  },
  {
   "cell_type": "code",
   "execution_count": 10,
   "metadata": {},
   "outputs": [],
   "source": [
    "for i in response_json['data']:\n",
    "    obj = NBATeam(\n",
    "        id = i['id'],\n",
    "        abbreviation = i['abbreviation'],\n",
    "        city = i['city'],\n",
    "        conference = i['conference'],\n",
    "        division = i['division'],\n",
    "        full_name = i['full_name'],\n",
    "        name = i['name'])\n",
    "    # try:\n",
    "    #     session.add(obj)\n",
    "    #     session.commit() \n",
    "    # except Exception as e:\n",
    "    #     session.rollback()\n",
    "    #     print(e)"
   ]
  },
  {
   "cell_type": "markdown",
   "metadata": {},
   "source": [
    "### Get data from database"
   ]
  },
  {
   "cell_type": "code",
   "execution_count": 11,
   "metadata": {},
   "outputs": [],
   "source": [
    "nbaTeams = Table('NBA_TEAMS', metadata, autoload=True, autoload_with=engine)"
   ]
  },
  {
   "cell_type": "code",
   "execution_count": 12,
   "metadata": {},
   "outputs": [
    {
     "data": {
      "text/plain": [
       "Table('NBA_TEAMS', MetaData(), Column('id', INTEGER(), table=<NBA_TEAMS>, primary_key=True, nullable=False), Column('abbreviation', VARCHAR(), table=<NBA_TEAMS>), Column('city', VARCHAR(), table=<NBA_TEAMS>), Column('conference', VARCHAR(), table=<NBA_TEAMS>), Column('division', VARCHAR(), table=<NBA_TEAMS>), Column('full_name', VARCHAR(), table=<NBA_TEAMS>), Column('name', VARCHAR(), table=<NBA_TEAMS>), Column('date_founded', DATETIME(), table=<NBA_TEAMS>), schema=None)"
      ]
     },
     "execution_count": 12,
     "metadata": {},
     "output_type": "execute_result"
    }
   ],
   "source": [
    "nbaTeams"
   ]
  },
  {
   "cell_type": "code",
   "execution_count": 13,
   "metadata": {},
   "outputs": [
    {
     "name": "stdout",
     "output_type": "stream",
     "text": [
      "SELECT \"NBA_TEAMS\".id, \"NBA_TEAMS\".abbreviation, \"NBA_TEAMS\".city, \"NBA_TEAMS\".conference, \"NBA_TEAMS\".division, \"NBA_TEAMS\".full_name, \"NBA_TEAMS\".name, \"NBA_TEAMS\".date_founded \n",
      "FROM \"NBA_TEAMS\"\n"
     ]
    }
   ],
   "source": [
    "query = db.select([nbaTeams]) \n",
    "print(query)"
   ]
  },
  {
   "cell_type": "code",
   "execution_count": 14,
   "metadata": {},
   "outputs": [
    {
     "name": "stdout",
     "output_type": "stream",
     "text": [
      "[(17, 'MIL', 'Milwaukee', 'East', 'ksadlja', 'Milwaukee Bucks', 'asdasd', datetime.datetime(2022, 7, 6, 20, 10, 56, 472000)),\n",
      " (18, 'MIN', 'Minnesota', 'West', 'Northwest', 'Minnesota Timberwolves', 'Timberwolves', None),\n",
      " (19, 'NOP', 'New Orleans', 'West', 'Southwest', 'New Orleans Pelicans', 'Pelicans', None),\n",
      " (20, 'NYK', 'New York', 'East', 'Atlantic', 'New York Knicks', 'Knicks', None),\n",
      " (21, 'OKC', 'Oklahoma City', 'West', 'Northwest', 'Oklahoma City Thunder', 'Thunder', datetime.datetime(2022, 7, 6, 20, 42, 42, 486000)),\n",
      " (22, 'ORL', 'Orlando', 'East', 'Southeast', 'Orlando Magic', 'Magic', None),\n",
      " (23, 'PHI', 'Philadelphia', 'East', 'Atlantic', 'Philadelphia 76ers', '76ers', None),\n",
      " (24, 'PHX', 'Phoenix', 'West', 'Pacific', 'Phoenix Suns', 'Suns', None),\n",
      " (25, 'POR', 'Portland', 'West', 'Northwest', 'Portland Trail Blazers', 'Trail Blazers', None),\n",
      " (26, 'SAC', 'Sacramento', 'West', 'Pacific', 'Sacramento Kings', 'Kings', None),\n",
      " (27, 'SAS', 'San Antonio', 'West', 'Southwest', 'San Antonio Spurs', 'Spurs', None),\n",
      " (28, 'TOR', 'Toronto', 'East', 'Atlantic', 'Toronto Raptors', 'Raptors', None),\n",
      " (29, 'UTA', 'Utah', 'West', 'Northwest', 'Utah Jazz', 'Jazz', None),\n",
      " (30, 'sadas', 'Milwaukee', 'East', 'Central', 'test', 'test', datetime.datetime(2022, 7, 6, 0, 0)),\n",
      " (31, 'test_clear', 'Milwaukee', 'East', 'Central', 'test_clear', 'test_clear', datetime.datetime(2022, 7, 6, 0, 0))]\n"
     ]
    }
   ],
   "source": [
    "ResultProxy = connection.execute(query)\n",
    "ResultSet = ResultProxy.fetchall()\n",
    "pp(ResultSet)"
   ]
  },
  {
   "cell_type": "markdown",
   "metadata": {},
   "source": [
    "### Creating dict from result set"
   ]
  },
  {
   "cell_type": "code",
   "execution_count": 15,
   "metadata": {},
   "outputs": [
    {
     "name": "stdout",
     "output_type": "stream",
     "text": [
      "[{'abbreviation': 'MIL',\n",
      "  'city': 'Milwaukee',\n",
      "  'conference': 'East',\n",
      "  'date_founded': datetime.datetime(2022, 7, 6, 20, 10, 56, 472000),\n",
      "  'division': 'ksadlja',\n",
      "  'full_name': 'Milwaukee Bucks',\n",
      "  'id': 17,\n",
      "  'name': 'asdasd'},\n",
      " {'abbreviation': 'MIN',\n",
      "  'city': 'Minnesota',\n",
      "  'conference': 'West',\n",
      "  'date_founded': None,\n",
      "  'division': 'Northwest',\n",
      "  'full_name': 'Minnesota Timberwolves',\n",
      "  'id': 18,\n",
      "  'name': 'Timberwolves'},\n",
      " {'abbreviation': 'NOP',\n",
      "  'city': 'New Orleans',\n",
      "  'conference': 'West',\n",
      "  'date_founded': None,\n",
      "  'division': 'Southwest',\n",
      "  'full_name': 'New Orleans Pelicans',\n",
      "  'id': 19,\n",
      "  'name': 'Pelicans'},\n",
      " {'abbreviation': 'NYK',\n",
      "  'city': 'New York',\n",
      "  'conference': 'East',\n",
      "  'date_founded': None,\n",
      "  'division': 'Atlantic',\n",
      "  'full_name': 'New York Knicks',\n",
      "  'id': 20,\n",
      "  'name': 'Knicks'},\n",
      " {'abbreviation': 'OKC',\n",
      "  'city': 'Oklahoma City',\n",
      "  'conference': 'West',\n",
      "  'date_founded': datetime.datetime(2022, 7, 6, 20, 42, 42, 486000),\n",
      "  'division': 'Northwest',\n",
      "  'full_name': 'Oklahoma City Thunder',\n",
      "  'id': 21,\n",
      "  'name': 'Thunder'}]\n"
     ]
    }
   ],
   "source": [
    "rows = session.query(nbaTeams).all()\n",
    "list_of_dict = []\n",
    "for row in rows[:5]:\n",
    "    list_of_dict.append(row._asdict())\n",
    "pp(list_of_dict)"
   ]
  },
  {
   "cell_type": "code",
   "execution_count": null,
   "metadata": {},
   "outputs": [],
   "source": [
    "json_list_of_dict = json.dumps(list_of_dict)\n",
    "print(type(json_list_of_dict))"
   ]
  },
  {
   "cell_type": "code",
   "execution_count": null,
   "metadata": {},
   "outputs": [],
   "source": []
  },
  {
   "cell_type": "markdown",
   "metadata": {},
   "source": [
    "### Insert data into DB"
   ]
  },
  {
   "cell_type": "code",
   "execution_count": 18,
   "metadata": {},
   "outputs": [],
   "source": [
    "# insert data into the NBATeam table\n",
    "for team_entry in response_json['data']:\n",
    "    team = NBATeam(\n",
    "        id = team_entry['id'],\n",
    "        abbreviation = team_entry['abbreviation'],\n",
    "        city = team_entry['city'],\n",
    "        conference = team_entry['conference'],\n",
    "        division = team_entry['division'],\n",
    "        full_name = team_entry['full_name'],\n",
    "        name = team_entry['name'])\n",
    "    try:\n",
    "        session.add(team)\n",
    "        session.commit() \n",
    "    except Exception as e:\n",
    "        session.rollback()\n"
   ]
  },
  {
   "cell_type": "code",
   "execution_count": null,
   "metadata": {},
   "outputs": [],
   "source": []
  }
 ],
 "metadata": {
  "kernelspec": {
   "display_name": "Python 3.8.9 ('venv': venv)",
   "language": "python",
   "name": "python3"
  },
  "language_info": {
   "codemirror_mode": {
    "name": "ipython",
    "version": 3
   },
   "file_extension": ".py",
   "mimetype": "text/x-python",
   "name": "python",
   "nbconvert_exporter": "python",
   "pygments_lexer": "ipython3",
   "version": "3.8.9"
  },
  "orig_nbformat": 4,
  "vscode": {
   "interpreter": {
    "hash": "6be98e713a0871d2017a4fa4dcc6fd1ef63949dfee051c4b6e073dd635a5c7fe"
   }
  }
 },
 "nbformat": 4,
 "nbformat_minor": 2
}
